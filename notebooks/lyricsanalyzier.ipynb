{
 "cells": [
  {
   "cell_type": "code",
   "execution_count": null,
   "metadata": {},
   "outputs": [],
   "source": [
    "!pip install LLMChainRouter"
   ]
  },
  {
   "cell_type": "code",
   "execution_count": 6,
   "metadata": {},
   "outputs": [],
   "source": [
    "import os\n",
    "from langchain_google_genai import ChatGoogleGenerativeAI\n",
    "from langchain.prompts import PromptTemplate\n",
    "from langchain_core.runnables import chain\n",
    "from langchain_core.runnables import RunnablePassthrough\n",
    "from operator import itemgetter\n",
    "from dotenv import load_dotenv\n",
    "\n",
    "# 加载环境变量\n",
    "load_dotenv()\n",
    "google_api_key = os.environ.get('GOOGLE_API_KEY')\n",
    "\n",
    "# 确保 API 密钥已设置\n",
    "if not google_api_key:\n",
    "    print(\"没有找到 Google API 密钥，请确保在 .env 文件中设置 GOOGLE_API_KEY\")\n",
    "    exit()\n",
    "\n",
    "# 1. 初始化 LLM\n",
    "llm = ChatGoogleGenerativeAI(\n",
    "    model=\"gemini-2.0-flash\",\n",
    "    google_api_key=google_api_key,\n",
    "    temperature=0.3\n",
    ")"
   ]
  },
  {
   "cell_type": "markdown",
   "metadata": {},
   "source": [
    "文学作品判断器："
   ]
  },
  {
   "cell_type": "code",
   "execution_count": null,
   "metadata": {},
   "outputs": [],
   "source": [
    "is_lyric_prompt_template = \"\"\"\n",
    "你是一个文本分类器。你的任务是判断给定的文本是否为歌词或文学作品（例如诗歌、小说片段、散文）。\n",
    "仅回答 \"是\" 或 \"否\"。\n",
    "文本：{text}\n",
    "答案：\n",
    "\"\"\"\n",
    "is_lyric_prompt = PromptTemplate(\n",
    "    template=is_lyric_prompt_template,\n",
    "    input_variables=[\"text\"]\n",
    ")\n",
    "\n",
    "is_lyric_chain = (\n",
    "    {\"text\": RunnablePassthrough()} | is_lyric_prompt | llm | {\"is_lyric\": itemgetter(\"text\")}\n",
    ")"
   ]
  },
  {
   "cell_type": "markdown",
   "metadata": {},
   "source": [
    "尝试搜索，但是 langchian 和 vertexai 用不了 grounding，所以这里用 gemini api。"
   ]
  },
  {
   "cell_type": "code",
   "execution_count": 2,
   "metadata": {},
   "outputs": [
    {
     "name": "stdout",
     "output_type": "stream",
     "text": [
      "Collecting langchain-google-vertexai\n",
      "  Downloading langchain_google_vertexai-2.0.15-py3-none-any.whl.metadata (3.8 kB)\n",
      "Collecting google-cloud-aiplatform<2.0.0,>=1.81.0 (from langchain-google-vertexai)\n",
      "  Downloading google_cloud_aiplatform-1.85.0-py3-none-any.whl.metadata (33 kB)\n",
      "Requirement already satisfied: google-cloud-storage<3.0.0,>=2.18.0 in /Users/a51/Developer/service_lad_agent/.venv/lib/python3.9/site-packages (from langchain-google-vertexai) (2.19.0)\n",
      "Requirement already satisfied: httpx<0.29.0,>=0.28.0 in /Users/a51/Developer/service_lad_agent/.venv/lib/python3.9/site-packages (from langchain-google-vertexai) (0.28.1)\n",
      "Requirement already satisfied: httpx-sse<0.5.0,>=0.4.0 in /Users/a51/Developer/service_lad_agent/.venv/lib/python3.9/site-packages (from langchain-google-vertexai) (0.4.0)\n",
      "Requirement already satisfied: langchain-core<0.4,>=0.3.31 in /Users/a51/Developer/service_lad_agent/.venv/lib/python3.9/site-packages (from langchain-google-vertexai) (0.3.45)\n",
      "Requirement already satisfied: pydantic<3.0,>=2.9 in /Users/a51/Developer/service_lad_agent/.venv/lib/python3.9/site-packages (from langchain-google-vertexai) (2.10.6)\n",
      "Requirement already satisfied: google-api-core!=2.0.*,!=2.1.*,!=2.2.*,!=2.3.*,!=2.4.*,!=2.5.*,!=2.6.*,!=2.7.*,<3.0.0,>=1.34.1 in /Users/a51/Developer/service_lad_agent/.venv/lib/python3.9/site-packages (from google-api-core[grpc]!=2.0.*,!=2.1.*,!=2.2.*,!=2.3.*,!=2.4.*,!=2.5.*,!=2.6.*,!=2.7.*,<3.0.0,>=1.34.1->google-cloud-aiplatform<2.0.0,>=1.81.0->langchain-google-vertexai) (2.24.2)\n",
      "Requirement already satisfied: google-auth<3.0.0,>=2.14.1 in /Users/a51/Developer/service_lad_agent/.venv/lib/python3.9/site-packages (from google-cloud-aiplatform<2.0.0,>=1.81.0->langchain-google-vertexai) (2.38.0)\n",
      "Requirement already satisfied: proto-plus<2.0.0,>=1.22.3 in /Users/a51/Developer/service_lad_agent/.venv/lib/python3.9/site-packages (from google-cloud-aiplatform<2.0.0,>=1.81.0->langchain-google-vertexai) (1.26.1)\n",
      "Requirement already satisfied: protobuf!=4.21.0,!=4.21.1,!=4.21.2,!=4.21.3,!=4.21.4,!=4.21.5,<6.0.0,>=3.20.2 in /Users/a51/Developer/service_lad_agent/.venv/lib/python3.9/site-packages (from google-cloud-aiplatform<2.0.0,>=1.81.0->langchain-google-vertexai) (5.29.3)\n",
      "Requirement already satisfied: packaging>=14.3 in /Users/a51/Developer/service_lad_agent/.venv/lib/python3.9/site-packages (from google-cloud-aiplatform<2.0.0,>=1.81.0->langchain-google-vertexai) (24.2)\n",
      "Requirement already satisfied: google-cloud-bigquery!=3.20.0,<4.0.0,>=1.15.0 in /Users/a51/Developer/service_lad_agent/.venv/lib/python3.9/site-packages (from google-cloud-aiplatform<2.0.0,>=1.81.0->langchain-google-vertexai) (3.30.0)\n",
      "Requirement already satisfied: google-cloud-resource-manager<3.0.0,>=1.3.3 in /Users/a51/Developer/service_lad_agent/.venv/lib/python3.9/site-packages (from google-cloud-aiplatform<2.0.0,>=1.81.0->langchain-google-vertexai) (1.14.2)\n",
      "Requirement already satisfied: shapely<3.0.0 in /Users/a51/Developer/service_lad_agent/.venv/lib/python3.9/site-packages (from google-cloud-aiplatform<2.0.0,>=1.81.0->langchain-google-vertexai) (2.0.7)\n",
      "Requirement already satisfied: typing-extensions in /Users/a51/Developer/service_lad_agent/.venv/lib/python3.9/site-packages (from google-cloud-aiplatform<2.0.0,>=1.81.0->langchain-google-vertexai) (4.12.2)\n",
      "Requirement already satisfied: docstring-parser<1 in /Users/a51/Developer/service_lad_agent/.venv/lib/python3.9/site-packages (from google-cloud-aiplatform<2.0.0,>=1.81.0->langchain-google-vertexai) (0.16)\n",
      "Requirement already satisfied: google-cloud-core<3.0dev,>=2.3.0 in /Users/a51/Developer/service_lad_agent/.venv/lib/python3.9/site-packages (from google-cloud-storage<3.0.0,>=2.18.0->langchain-google-vertexai) (2.4.3)\n",
      "Requirement already satisfied: google-resumable-media>=2.7.2 in /Users/a51/Developer/service_lad_agent/.venv/lib/python3.9/site-packages (from google-cloud-storage<3.0.0,>=2.18.0->langchain-google-vertexai) (2.7.2)\n",
      "Requirement already satisfied: requests<3.0.0dev,>=2.18.0 in /Users/a51/Developer/service_lad_agent/.venv/lib/python3.9/site-packages (from google-cloud-storage<3.0.0,>=2.18.0->langchain-google-vertexai) (2.32.3)\n",
      "Requirement already satisfied: google-crc32c<2.0dev,>=1.0 in /Users/a51/Developer/service_lad_agent/.venv/lib/python3.9/site-packages (from google-cloud-storage<3.0.0,>=2.18.0->langchain-google-vertexai) (1.7.0)\n",
      "Requirement already satisfied: anyio in /Users/a51/Developer/service_lad_agent/.venv/lib/python3.9/site-packages (from httpx<0.29.0,>=0.28.0->langchain-google-vertexai) (4.8.0)\n",
      "Requirement already satisfied: certifi in /Users/a51/Developer/service_lad_agent/.venv/lib/python3.9/site-packages (from httpx<0.29.0,>=0.28.0->langchain-google-vertexai) (2025.1.31)\n",
      "Requirement already satisfied: httpcore==1.* in /Users/a51/Developer/service_lad_agent/.venv/lib/python3.9/site-packages (from httpx<0.29.0,>=0.28.0->langchain-google-vertexai) (1.0.7)\n",
      "Requirement already satisfied: idna in /Users/a51/Developer/service_lad_agent/.venv/lib/python3.9/site-packages (from httpx<0.29.0,>=0.28.0->langchain-google-vertexai) (3.10)\n",
      "Requirement already satisfied: h11<0.15,>=0.13 in /Users/a51/Developer/service_lad_agent/.venv/lib/python3.9/site-packages (from httpcore==1.*->httpx<0.29.0,>=0.28.0->langchain-google-vertexai) (0.14.0)\n",
      "Requirement already satisfied: langsmith<0.4,>=0.1.125 in /Users/a51/Developer/service_lad_agent/.venv/lib/python3.9/site-packages (from langchain-core<0.4,>=0.3.31->langchain-google-vertexai) (0.3.13)\n",
      "Requirement already satisfied: tenacity!=8.4.0,<10.0.0,>=8.1.0 in /Users/a51/Developer/service_lad_agent/.venv/lib/python3.9/site-packages (from langchain-core<0.4,>=0.3.31->langchain-google-vertexai) (9.0.0)\n",
      "Requirement already satisfied: jsonpatch<2.0,>=1.33 in /Users/a51/Developer/service_lad_agent/.venv/lib/python3.9/site-packages (from langchain-core<0.4,>=0.3.31->langchain-google-vertexai) (1.33)\n",
      "Requirement already satisfied: PyYAML>=5.3 in /Users/a51/Developer/service_lad_agent/.venv/lib/python3.9/site-packages (from langchain-core<0.4,>=0.3.31->langchain-google-vertexai) (6.0.2)\n",
      "Requirement already satisfied: annotated-types>=0.6.0 in /Users/a51/Developer/service_lad_agent/.venv/lib/python3.9/site-packages (from pydantic<3.0,>=2.9->langchain-google-vertexai) (0.7.0)\n",
      "Requirement already satisfied: pydantic-core==2.27.2 in /Users/a51/Developer/service_lad_agent/.venv/lib/python3.9/site-packages (from pydantic<3.0,>=2.9->langchain-google-vertexai) (2.27.2)\n",
      "Requirement already satisfied: googleapis-common-protos<2.0.0,>=1.56.2 in /Users/a51/Developer/service_lad_agent/.venv/lib/python3.9/site-packages (from google-api-core!=2.0.*,!=2.1.*,!=2.2.*,!=2.3.*,!=2.4.*,!=2.5.*,!=2.6.*,!=2.7.*,<3.0.0,>=1.34.1->google-api-core[grpc]!=2.0.*,!=2.1.*,!=2.2.*,!=2.3.*,!=2.4.*,!=2.5.*,!=2.6.*,!=2.7.*,<3.0.0,>=1.34.1->google-cloud-aiplatform<2.0.0,>=1.81.0->langchain-google-vertexai) (1.69.2)\n",
      "Requirement already satisfied: grpcio<2.0dev,>=1.33.2 in /Users/a51/Developer/service_lad_agent/.venv/lib/python3.9/site-packages (from google-api-core[grpc]!=2.0.*,!=2.1.*,!=2.2.*,!=2.3.*,!=2.4.*,!=2.5.*,!=2.6.*,!=2.7.*,<3.0.0,>=1.34.1->google-cloud-aiplatform<2.0.0,>=1.81.0->langchain-google-vertexai) (1.71.0)\n",
      "Requirement already satisfied: grpcio-status<2.0.dev0,>=1.33.2 in /Users/a51/Developer/service_lad_agent/.venv/lib/python3.9/site-packages (from google-api-core[grpc]!=2.0.*,!=2.1.*,!=2.2.*,!=2.3.*,!=2.4.*,!=2.5.*,!=2.6.*,!=2.7.*,<3.0.0,>=1.34.1->google-cloud-aiplatform<2.0.0,>=1.81.0->langchain-google-vertexai) (1.71.0)\n",
      "Requirement already satisfied: cachetools<6.0,>=2.0.0 in /Users/a51/Developer/service_lad_agent/.venv/lib/python3.9/site-packages (from google-auth<3.0.0,>=2.14.1->google-cloud-aiplatform<2.0.0,>=1.81.0->langchain-google-vertexai) (5.5.2)\n",
      "Requirement already satisfied: pyasn1-modules>=0.2.1 in /Users/a51/Developer/service_lad_agent/.venv/lib/python3.9/site-packages (from google-auth<3.0.0,>=2.14.1->google-cloud-aiplatform<2.0.0,>=1.81.0->langchain-google-vertexai) (0.4.1)\n",
      "Requirement already satisfied: rsa<5,>=3.1.4 in /Users/a51/Developer/service_lad_agent/.venv/lib/python3.9/site-packages (from google-auth<3.0.0,>=2.14.1->google-cloud-aiplatform<2.0.0,>=1.81.0->langchain-google-vertexai) (4.9)\n",
      "Requirement already satisfied: python-dateutil<3.0dev,>=2.7.3 in /Users/a51/Developer/service_lad_agent/.venv/lib/python3.9/site-packages (from google-cloud-bigquery!=3.20.0,<4.0.0,>=1.15.0->google-cloud-aiplatform<2.0.0,>=1.81.0->langchain-google-vertexai) (2.9.0.post0)\n",
      "Requirement already satisfied: grpc-google-iam-v1<1.0.0,>=0.14.0 in /Users/a51/Developer/service_lad_agent/.venv/lib/python3.9/site-packages (from google-cloud-resource-manager<3.0.0,>=1.3.3->google-cloud-aiplatform<2.0.0,>=1.81.0->langchain-google-vertexai) (0.14.2)\n",
      "Requirement already satisfied: jsonpointer>=1.9 in /Users/a51/Developer/service_lad_agent/.venv/lib/python3.9/site-packages (from jsonpatch<2.0,>=1.33->langchain-core<0.4,>=0.3.31->langchain-google-vertexai) (3.0.0)\n",
      "Requirement already satisfied: orjson<4.0.0,>=3.9.14 in /Users/a51/Developer/service_lad_agent/.venv/lib/python3.9/site-packages (from langsmith<0.4,>=0.1.125->langchain-core<0.4,>=0.3.31->langchain-google-vertexai) (3.10.15)\n",
      "Requirement already satisfied: requests-toolbelt<2.0.0,>=1.0.0 in /Users/a51/Developer/service_lad_agent/.venv/lib/python3.9/site-packages (from langsmith<0.4,>=0.1.125->langchain-core<0.4,>=0.3.31->langchain-google-vertexai) (1.0.0)\n",
      "Requirement already satisfied: zstandard<0.24.0,>=0.23.0 in /Users/a51/Developer/service_lad_agent/.venv/lib/python3.9/site-packages (from langsmith<0.4,>=0.1.125->langchain-core<0.4,>=0.3.31->langchain-google-vertexai) (0.23.0)\n",
      "Requirement already satisfied: charset-normalizer<4,>=2 in /Users/a51/Developer/service_lad_agent/.venv/lib/python3.9/site-packages (from requests<3.0.0dev,>=2.18.0->google-cloud-storage<3.0.0,>=2.18.0->langchain-google-vertexai) (3.4.1)\n",
      "Requirement already satisfied: urllib3<3,>=1.21.1 in /Users/a51/Developer/service_lad_agent/.venv/lib/python3.9/site-packages (from requests<3.0.0dev,>=2.18.0->google-cloud-storage<3.0.0,>=2.18.0->langchain-google-vertexai) (2.3.0)\n",
      "Requirement already satisfied: numpy<3,>=1.14 in /Users/a51/Developer/service_lad_agent/.venv/lib/python3.9/site-packages (from shapely<3.0.0->google-cloud-aiplatform<2.0.0,>=1.81.0->langchain-google-vertexai) (2.0.2)\n",
      "Requirement already satisfied: exceptiongroup>=1.0.2 in /Users/a51/Developer/service_lad_agent/.venv/lib/python3.9/site-packages (from anyio->httpx<0.29.0,>=0.28.0->langchain-google-vertexai) (1.2.2)\n",
      "Requirement already satisfied: sniffio>=1.1 in /Users/a51/Developer/service_lad_agent/.venv/lib/python3.9/site-packages (from anyio->httpx<0.29.0,>=0.28.0->langchain-google-vertexai) (1.3.1)\n",
      "Requirement already satisfied: pyasn1<0.7.0,>=0.4.6 in /Users/a51/Developer/service_lad_agent/.venv/lib/python3.9/site-packages (from pyasn1-modules>=0.2.1->google-auth<3.0.0,>=2.14.1->google-cloud-aiplatform<2.0.0,>=1.81.0->langchain-google-vertexai) (0.6.1)\n",
      "Requirement already satisfied: six>=1.5 in /Users/a51/Developer/service_lad_agent/.venv/lib/python3.9/site-packages (from python-dateutil<3.0dev,>=2.7.3->google-cloud-bigquery!=3.20.0,<4.0.0,>=1.15.0->google-cloud-aiplatform<2.0.0,>=1.81.0->langchain-google-vertexai) (1.17.0)\n",
      "Downloading langchain_google_vertexai-2.0.15-py3-none-any.whl (95 kB)\n",
      "Downloading google_cloud_aiplatform-1.85.0-py3-none-any.whl (7.3 MB)\n",
      "\u001b[2K   \u001b[90m━━━━━━━━━━━━━━━━━━━━━━━━━━━━━━━━━━━━━━━━\u001b[0m \u001b[32m7.3/7.3 MB\u001b[0m \u001b[31m5.6 MB/s\u001b[0m eta \u001b[36m0:00:00\u001b[0ma \u001b[36m0:00:01\u001b[0m\n",
      "\u001b[?25hInstalling collected packages: google-cloud-aiplatform, langchain-google-vertexai\n",
      "  Attempting uninstall: google-cloud-aiplatform\n",
      "    Found existing installation: google-cloud-aiplatform 1.71.1\n",
      "    Uninstalling google-cloud-aiplatform-1.71.1:\n",
      "      Successfully uninstalled google-cloud-aiplatform-1.71.1\n",
      "\u001b[31mERROR: pip's dependency resolver does not currently take into account all the packages that are installed. This behaviour is the source of the following dependency conflicts.\n",
      "vertexai 1.71.1 requires google-cloud-aiplatform[all]==1.71.1, but you have google-cloud-aiplatform 1.85.0 which is incompatible.\u001b[0m\u001b[31m\n",
      "\u001b[0mSuccessfully installed google-cloud-aiplatform-1.85.0 langchain-google-vertexai-2.0.15\n"
     ]
    }
   ],
   "source": [
    "!pip install -q -U google-genai"
   ]
  },
  {
   "cell_type": "code",
   "execution_count": 12,
   "metadata": {},
   "outputs": [
    {
     "name": "stdout",
     "output_type": "stream",
     "text": [
      "好的，没问题。下面是对Camila Cabello的歌曲 \"June Gloom\" 中歌词的分析：\n",
      "\n",
      "这首歌词出自Camila Cabello的专辑C, XOXO中的歌曲 \"June Gloom\"。根据我对歌词的分析，可以总结为以下几点：\n",
      "\n",
      "*   **隐喻与引用：** 歌词中 \"Does she get this wet for you, baby?\" 和 \"Talk to you in poems and songs, huh, baby?\" 运用了反问的修辞手法，暗示了前任的新女友是否也能像她一样带给对方激情和浪漫。这是一种隐晦的比较，暗示自己曾经在感情中的投入和独特性。\n",
      "*   **背后故事：** 据报道，这首歌的灵感来自于Camila与前男友（很可能是Shawn Mendes）的重逢经历 [2, 3]。歌词表达了对前任和他的新恋情的复杂情感，包括嫉妒、不甘和自我怀疑 [1, 4]。歌名 \"June Gloom\" 本身指的是一种天气现象，Camila用它来比喻与前任重逢时那种迷茫和不清醒的状态 [3, 5]。\n",
      "*   **歌曲背景信息：** \"June Gloom\" 是一首关于旧情难忘的歌曲，Camila在歌曲中展现了更加奔放和真实的自己 [5]。歌词中透露出她对这段关系的反思和挣扎，以及对前任的复杂情感 [6]。\n",
      "\n",
      "总的来说，这段歌词通过隐喻和反问，表达了Camila对前任恋情的复杂情感，以及对自己在感情中地位的质疑。歌曲的背景故事则揭示了这段情感的来源，以及Camila创作这首歌的动机。\n",
      "\n"
     ]
    }
   ],
   "source": [
    "import base64\n",
    "import os\n",
    "from google import genai\n",
    "from google.genai import types\n",
    "\n",
    "def search_lyric_meaning(context: str, text: str) -> str:\n",
    "    \"\"\"\n",
    "    分析歌词背后的隐喻或典故。\n",
    "\n",
    "    Args:\n",
    "        context: 歌曲的背景信息，例如歌曲名称、歌手、专辑等。\n",
    "        text: 需要分析的歌词文本。\n",
    "\n",
    "    Returns:\n",
    "        包含分析结果的字符串。如果无法找到相关信息，则返回提示消息。\n",
    "    \"\"\"\n",
    "\n",
    "    client = genai.Client(\n",
    "        api_key=os.environ.get(\"GEMINI_API_KEY\"),\n",
    "    )\n",
    "\n",
    "    model = \"gemini-2.0-flash\"\n",
    "    prompt = f\"\"\"\n",
    "    请分析以下歌词的隐喻，引用，背后故事，并结合歌曲的背景信息。尽可能简洁，当你引用信息的时候请标明来源。请你直接返回分析结果。\n",
    "    背景信息：（{context}）。\n",
    "    歌词：{text}\n",
    "    \"\"\"\n",
    "\n",
    "    contents = [\n",
    "        types.Content(\n",
    "            role=\"user\",\n",
    "            parts=[\n",
    "                types.Part.from_text(text=prompt),\n",
    "            ],\n",
    "        ),\n",
    "    ]\n",
    "    tools = [\n",
    "        types.Tool(google_search=types.GoogleSearch())\n",
    "    ]\n",
    "    generate_content_config = types.GenerateContentConfig(\n",
    "        temperature=1,\n",
    "        top_p=0.95,\n",
    "        top_k=40,\n",
    "        max_output_tokens=8192,\n",
    "        tools=tools,\n",
    "        response_mime_type=\"text/plain\",\n",
    "    )\n",
    "    \n",
    "    try:\n",
    "        response = client.models.generate_content(\n",
    "            model=model,\n",
    "            contents=contents,\n",
    "            config=generate_content_config,\n",
    "        )\n",
    "        return response.text\n",
    "    except Exception as e:\n",
    "        return f\"分析出错：{str(e)}\"\n",
    "\n",
    "# 示例用法\n",
    "if __name__ == '__main__':\n",
    "    context = \"歌曲：June Gloom，歌手：Camila Cabello，专辑：C, XOXO\"\n",
    "    lyric = \"Does she get this wet for you, baby? \\n Talk to you in poems and songs, huh, baby?\"\n",
    "    analysis = search_lyric_meaning(context, lyric)\n",
    "    print(analysis)\n"
   ]
  },
  {
   "cell_type": "code",
   "execution_count": null,
   "metadata": {},
   "outputs": [],
   "source": []
  }
 ],
 "metadata": {
  "kernelspec": {
   "display_name": ".venv",
   "language": "python",
   "name": "python3"
  },
  "language_info": {
   "codemirror_mode": {
    "name": "ipython",
    "version": 3
   },
   "file_extension": ".py",
   "mimetype": "text/x-python",
   "name": "python",
   "nbconvert_exporter": "python",
   "pygments_lexer": "ipython3",
   "version": "3.9.6"
  }
 },
 "nbformat": 4,
 "nbformat_minor": 2
}
